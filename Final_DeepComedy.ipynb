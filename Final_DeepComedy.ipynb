{
  "nbformat": 4,
  "nbformat_minor": 0,
  "metadata": {
    "colab": {
      "name": "Final - DeepComedy.ipynb",
      "provenance": [],
      "collapsed_sections": []
    },
    "kernelspec": {
      "display_name": "Python 3",
      "language": "python",
      "name": "python3"
    },
    "accelerator": "GPU"
  },
  "cells": [
    {
      "cell_type": "markdown",
      "metadata": {
        "id": "n8bg-vup0iWu"
      },
      "source": [
        "## **1. Data Processing**"
      ]
    },
    {
      "cell_type": "markdown",
      "metadata": {
        "id": "0hne6FCq1ZKZ"
      },
      "source": [
        "### ***1.1 Data Loading***\n",
        "\n",
        "The *Divine Comedy* is loaded and stored in a variable"
      ]
    },
    {
      "cell_type": "code",
      "metadata": {
        "id": "EOofZ_881Z2X",
        "colab": {
          "base_uri": "https://localhost:8080/"
        },
        "outputId": "ea7e3305-9fe3-4775-b311-922a98c2cdf6"
      },
      "source": [
        "with open('divine_comedy.txt', 'r', encoding='ISO-8859-1') as f:\n",
        "  divine_comedy = f.read()\n",
        "\n",
        "print(divine_comedy[:231])\n",
        "print('\\n\\n[...]\\n\\n')\n",
        "print(divine_comedy[-266:])"
      ],
      "execution_count": 1,
      "outputs": [
        {
          "output_type": "stream",
          "text": [
            "INFERNO\n",
            "\n",
            "- Canto I\n",
            "\n",
            "Nel mezzo del cammin di nostra vita\n",
            "mi ritrovai per una selva oscura,\n",
            "ché la diritta via era smarrita.\n",
            "\n",
            "Ahi quanto a dir qual era è cosa dura\n",
            "esta selva selvaggia e aspra e forte\n",
            "che nel pensier rinova la paura!\n",
            "\n",
            "\n",
            "[...]\n",
            "\n",
            "\n",
            "ma non eran da ciò le proprie penne:\n",
            "se non che la mia mente fu percossa\n",
            "da un fulgore in che sua voglia venne.\n",
            "\n",
            "A l'alta fantasia qui mancò possa;\n",
            "ma già volgeva il mio disio e 'l velle,\n",
            "sì come rota ch'igualmente è mossa,\n",
            "\n",
            "l'amor che move il sole e l'altre stelle.\n"
          ],
          "name": "stdout"
        }
      ]
    },
    {
      "cell_type": "markdown",
      "metadata": {
        "id": "IsGmnOvt4FDs"
      },
      "source": [
        "### ***1.1 Text Tagging***\n",
        "\n",
        "We use the provided function `tag` to map the original *Divine Comedy* into a tagged version containing:\n",
        "\n",
        "* a tag both at the beginning and at the end of each *cantica*\n",
        "\n",
        "* a tag both at the beginning and at the end of each *canto*\n",
        "\n",
        "* a tag between each couple of *tercets*"
      ]
    },
    {
      "cell_type": "code",
      "metadata": {
        "id": "KiWcaAdTZ9CC"
      },
      "source": [
        "import re\n",
        "\n",
        "DIVIDING_SYMBOL = '='\n",
        "MARKERS = {\n",
        "    'tercet': f'{DIVIDING_SYMBOL}TER{DIVIDING_SYMBOL}',\n",
        "    'canto start': f'{DIVIDING_SYMBOL}SOC{DIVIDING_SYMBOL}',\n",
        "    'canto end': f'{DIVIDING_SYMBOL}EOC{DIVIDING_SYMBOL}',\n",
        "    'cantica start': f'{DIVIDING_SYMBOL}SOCA{DIVIDING_SYMBOL}',\n",
        "    'cantica end': f'{DIVIDING_SYMBOL}EOCA{DIVIDING_SYMBOL}'\n",
        "}\n",
        "\n",
        "\n",
        "def tag(text):\n",
        "    text = '\\n' + text\n",
        "\n",
        "    # replace canto name with 'end+\\n+start' marker\n",
        "    text = re.sub(\n",
        "        f'\\n- Canto.*\\n\\n',\n",
        "        f'{MARKERS[\"canto end\"]}\\n{MARKERS[\"canto start\"]}\\n',\n",
        "        text\n",
        "    )\n",
        "\n",
        "    # replace previous cantica name + canto end with 'end+\\n+start' marker\n",
        "    for name in ['INFERNO', 'PURGATORIO', 'PARADISO']:\n",
        "        text = re.sub(\n",
        "            f'\\n{name}\\n{MARKERS[\"canto end\"]}',\n",
        "            f'{MARKERS[\"canto end\"]}\\n{MARKERS[\"cantica end\"]}\\n{MARKERS[\"cantica start\"]}',\n",
        "            text\n",
        "        )\n",
        "\n",
        "    # bring canto end + cantica end from the beginning to the end\n",
        "    swap = f'{MARKERS[\"canto end\"]}\\n{MARKERS[\"cantica end\"]}'\n",
        "    text = text[len(swap)+1:] + '\\n' + swap\n",
        "\n",
        "    # replace double space with tercets\n",
        "    text = re.sub('\\n\\n', f'\\n{MARKERS[\"tercet\"]}\\n', text)\n",
        "\n",
        "    return text\n",
        "\n",
        "\n",
        "def untag(text):\n",
        "    for marker in MARKERS.values():\n",
        "        text = text.replace(marker, '')\n",
        "    return text"
      ],
      "execution_count": 2,
      "outputs": []
    },
    {
      "cell_type": "code",
      "metadata": {
        "id": "-p6yoy-N17hj",
        "colab": {
          "base_uri": "https://localhost:8080/"
        },
        "outputId": "46e5d02c-9dcf-4411-ef95-592a953be5e4"
      },
      "source": [
        "divine_comedy_tagged = tag(divine_comedy)\n",
        "print(divine_comedy_tagged[:235])\n",
        "print('\\n\\n[...]\\n\\n')\n",
        "print(divine_comedy_tagged[-295:])"
      ],
      "execution_count": 3,
      "outputs": [
        {
          "output_type": "stream",
          "text": [
            "=SOCA=\n",
            "=SOC=\n",
            "Nel mezzo del cammin di nostra vita\n",
            "mi ritrovai per una selva oscura,\n",
            "ché la diritta via era smarrita.\n",
            "=TER=\n",
            "Ahi quanto a dir qual era è cosa dura\n",
            "esta selva selvaggia e aspra e forte\n",
            "che nel pensier rinova la paura!\n",
            "=TER=\n",
            "\n",
            "\n",
            "[...]\n",
            "\n",
            "\n",
            "=TER=\n",
            "ma non eran da ciò le proprie penne:\n",
            "se non che la mia mente fu percossa\n",
            "da un fulgore in che sua voglia venne.\n",
            "=TER=\n",
            "A l'alta fantasia qui mancò possa;\n",
            "ma già volgeva il mio disio e 'l velle,\n",
            "sì come rota ch'igualmente è mossa,\n",
            "=TER=\n",
            "l'amor che move il sole e l'altre stelle.\n",
            "=EOC=\n",
            "=EOCA=\n"
          ],
          "name": "stdout"
        }
      ]
    },
    {
      "cell_type": "markdown",
      "metadata": {
        "id": "Y5yz_cPdAWEO"
      },
      "source": [
        "### ***1.2 Extracting the Verses***\n",
        "\n",
        "We want to extract verses from the *Divine Comedy* to build a dataset. In particular, we want that the input sequence represents a piece of the *Divine Comedy* going from verse *i* to verse *i+n* and the target sequence represents a piece of the *Divine Comedy* going from verse *i* to verse *i+n+1*"
      ]
    },
    {
      "cell_type": "code",
      "metadata": {
        "id": "QK_reSlvAWXq",
        "colab": {
          "base_uri": "https://localhost:8080/"
        },
        "outputId": "d37d7347-9dc2-404e-85cc-0d052680fef7"
      },
      "source": [
        "divine_comedy_split = divine_comedy_tagged.split('\\n')\n",
        "\n",
        "for i, verse in enumerate(divine_comedy_split[:20]):\n",
        "  print(f'{i+1:02} --> {verse}')"
      ],
      "execution_count": 4,
      "outputs": [
        {
          "output_type": "stream",
          "text": [
            "01 --> =SOCA=\n",
            "02 --> =SOC=\n",
            "03 --> Nel mezzo del cammin di nostra vita\n",
            "04 --> mi ritrovai per una selva oscura,\n",
            "05 --> ché la diritta via era smarrita.\n",
            "06 --> =TER=\n",
            "07 --> Ahi quanto a dir qual era è cosa dura\n",
            "08 --> esta selva selvaggia e aspra e forte\n",
            "09 --> che nel pensier rinova la paura!\n",
            "10 --> =TER=\n",
            "11 --> Tant' è amara che poco è più morte;\n",
            "12 --> ma per trattar del ben ch'i' vi trovai,\n",
            "13 --> dirò de l'altre cose ch'i' v'ho scorte.\n",
            "14 --> =TER=\n",
            "15 --> Io non so ben ridir com' i' v'intrai,\n",
            "16 --> tant' era pien di sonno a quel punto\n",
            "17 --> che la verace via abbandonai.\n",
            "18 --> =TER=\n",
            "19 --> Ma poi ch'i' fui al piè d'un colle giunto,\n",
            "20 --> là dove terminava quella valle\n"
          ],
          "name": "stdout"
        }
      ]
    },
    {
      "cell_type": "code",
      "metadata": {
        "id": "kRn35ESvEWun",
        "colab": {
          "base_uri": "https://localhost:8080/"
        },
        "outputId": "ae11df31-9f59-46cb-8abe-5c702bb0c277"
      },
      "source": [
        "print(len(divine_comedy_split))"
      ],
      "execution_count": 5,
      "outputs": [
        {
          "output_type": "stream",
          "text": [
            "19150\n"
          ],
          "name": "stdout"
        }
      ]
    },
    {
      "cell_type": "markdown",
      "metadata": {
        "id": "TJEMLEjQ8sia"
      },
      "source": [
        "### ***1.3 Building the Dataset***\n",
        "\n",
        "The rhyming scheme of the *Divine Comedy* is of the form: `ABA BCB CDC` and so on; thus we will need at least the last 3 verses to predict a correct fourth one, so we set `seq_length = 3`\n",
        "\n",
        "The total amount of sample is low, since it's not a single-token model, and the dataset is not dense, thus `step_length` of 1 and `train_val_split` of 0.7 are chosen"
      ]
    },
    {
      "cell_type": "code",
      "metadata": {
        "id": "p4M_wr57FK5j",
        "colab": {
          "base_uri": "https://localhost:8080/"
        },
        "outputId": "953bcd65-bacf-4e58-fc0e-c236768d60ed"
      },
      "source": [
        "seq_length = 3\n",
        "step_length = 1\n",
        "batch_size = 64\n",
        "train_val_split = 0.7\n",
        "\n",
        "tot_samples = int((len(divine_comedy_split) - seq_length) / step_length)\n",
        "train_samples = round(tot_samples * train_val_split)\n",
        "\n",
        "print('Train Samples:', train_samples)\n",
        "print('  Val Samples:', tot_samples - train_samples)"
      ],
      "execution_count": 6,
      "outputs": [
        {
          "output_type": "stream",
          "text": [
            "Train Samples: 13403\n",
            "  Val Samples: 5744\n"
          ],
          "name": "stdout"
        }
      ]
    },
    {
      "cell_type": "markdown",
      "metadata": {
        "id": "S6yDuoRZEa0a"
      },
      "source": [
        "Now, we map the list of verses into a dataset taking 4 verses per time, and splitting them into an input string of the first 3 verses and a target string containing all the 4 verses taken into consideration"
      ]
    },
    {
      "cell_type": "code",
      "metadata": {
        "id": "ePAQw8Pk75zq"
      },
      "source": [
        "from tensorflow.data import Dataset\n",
        "from tensorflow.strings import reduce_join\n",
        "\n",
        "def split_input_target(chunk):\n",
        "  input_text = reduce_join(chunk[:-1], separator='\\n') + '\\n'\n",
        "  target_text = reduce_join(chunk, separator='\\n') + '\\n'\n",
        "  return input_text, target_text\n",
        "\n",
        "dataset = Dataset.from_tensor_slices(divine_comedy_split)\n",
        "dataset = dataset.window(seq_length + 1, step_length, drop_remainder=True)\n",
        "dataset = dataset.flat_map(lambda window: window.batch(seq_length + 1))\n",
        "dataset = dataset.map(split_input_target).shuffle(tot_samples, seed=0)"
      ],
      "execution_count": 7,
      "outputs": []
    },
    {
      "cell_type": "markdown",
      "metadata": {
        "id": "CgKUP6qNEiKo"
      },
      "source": [
        "Finally, we encode each block of the comedy using the provided `subword_tokenizer` to tokenize the text into subwords, including punctuation. Some special tokens are reserved to the markers"
      ]
    },
    {
      "cell_type": "code",
      "metadata": {
        "id": "uibt73HZozow"
      },
      "source": [
        "import tensorflow_datasets as tfds\n",
        "from subword_text_encoder import SubwordTextEncoder\n",
        "\n",
        "def get_punctuation(text):\n",
        "    return list(set([char for char in text if char != DIVIDING_SYMBOL and not char.isalnum()]))\n",
        "\n",
        "def get_words(text):\n",
        "    text_no_punct = re.sub(\"[!\\\"\\'\\(\\),\\-\\.:;\\?]\", \"\", text)\n",
        "    text_words = [word for word in re.split(\"[\\s\\n]\", text_no_punct) if word != '']\n",
        "    return text_words\n",
        "\n",
        "def subword_tokenizer(text, target_vocab_size=2048, max_subword_length=3):\n",
        "    # the vocabulary is then made of each different word in the text plus the reserved tokens\n",
        "    # finally, it gets sorted so that each token index will always be assigned to the same character\n",
        "    vocabulary = list(set(get_words(text))) + get_punctuation(text)\n",
        "    vocabulary.sort()\n",
        "    return SubwordTextEncoder.build_from_corpus(\n",
        "      corpus_generator=vocabulary,           # generator yielding str, from which subwords will be constructed\n",
        "      target_vocab_size=target_vocab_size,   # int, approximate size of the vocabulary to create\n",
        "      max_subword_length=max_subword_length, # int, maximum length of a subword\n",
        "      reserved_tokens=list(MARKERS.values()) # list<str>, list of tokens that will always be treated as whole tokens and not split up\n",
        "    )"
      ],
      "execution_count": 8,
      "outputs": []
    },
    {
      "cell_type": "code",
      "metadata": {
        "id": "bE2RTrqY36ZE",
        "colab": {
          "base_uri": "https://localhost:8080/"
        },
        "outputId": "576a0294-e1bc-401b-f874-bfc73613d28a"
      },
      "source": [
        "tokenizer = subword_tokenizer(divine_comedy, target_vocab_size=2048, max_subword_length=3)\n",
        "print(tokenizer.vocab_size, 'tokens:\\n')\n",
        "\n",
        "for token in tokenizer.subwords[:20]:\n",
        "  print(\"'{}'\".format('\\\\n' if token == '\\n' else token))"
      ],
      "execution_count": 9,
      "outputs": [
        {
          "output_type": "stream",
          "text": [
            "3478 tokens:\n",
            "\n",
            "'=TER='\n",
            "'=SOC='\n",
            "'=EOC='\n",
            "'=SOCA='\n",
            "'=EOCA='\n",
            "'to'\n",
            "'con'\n",
            "'ta'\n",
            "'dis'\n",
            "'te'\n",
            "'ti'\n",
            "'tra'\n",
            "'chi'\n",
            "'si'\n",
            "'se'\n",
            "'do'\n",
            "'par'\n",
            "'ent'\n",
            "'and'\n",
            "'pre'\n"
          ],
          "name": "stdout"
        }
      ]
    },
    {
      "cell_type": "code",
      "metadata": {
        "id": "-wqwv8CZKppn"
      },
      "source": [
        "import tensorflow as tf\n",
        "\n",
        "def encode_dataset(input_dataset, target_dataset):\n",
        "  def encode_sample(input, target):\n",
        "    input = [tokenizer.vocab_size] + tokenizer.encode(input.numpy()) + [tokenizer.vocab_size+1]\n",
        "    target = [tokenizer.vocab_size] + tokenizer.encode(target.numpy()) + [tokenizer.vocab_size+1]\n",
        "    return input, target\n",
        "\n",
        "  input_dataset, target_dataset = tf.py_function(encode_sample, [input_dataset, target_dataset], [tf.int64, tf.int64])\n",
        "  input_dataset.set_shape([None])\n",
        "  target_dataset.set_shape([None])\n",
        "  return input_dataset, target_dataset\n",
        "\n",
        "train_dataset = dataset.take(train_samples).map(encode_dataset)       # Encodes input and target text into a list of integers (IDs)\n",
        "train_dataset = train_dataset.cache()                                 # Caches the elements in this dataset\n",
        "train_dataset = train_dataset.padded_batch(batch_size)                # Combines multiple consecutive elements of this dataset into padded batches (a single element)\n",
        "train_dataset = train_dataset.prefetch(tf.data.experimental.AUTOTUNE) # This allows later elements to be prepared while the current element is being processed, improving latency and throughput\n",
        "\n",
        "val_dataset = dataset.take(tot_samples - train_samples).map(encode_dataset)\n",
        "val_dataset = val_dataset.cache()\n",
        "val_dataset = val_dataset.padded_batch(batch_size)\n",
        "val_dataset = val_dataset.prefetch(tf.data.experimental.AUTOTUNE)"
      ],
      "execution_count": 10,
      "outputs": []
    },
    {
      "cell_type": "code",
      "metadata": {
        "id": "3bZAWLNaJr93",
        "colab": {
          "base_uri": "https://localhost:8080/"
        },
        "outputId": "3c6b7e52-a02f-4aaf-93bb-6b6c8ddbb483"
      },
      "source": [
        "for input, target in train_dataset.take(1):\n",
        "  input = input.numpy()[0]\n",
        "  target = target.numpy()[0]\n",
        "\n",
        "  print(f'Input  Shape: {input.shape}')\n",
        "  print(f'Target Shape: {target.shape}')\n",
        "  print()\n",
        "\n",
        "  print('INPUT:\\n')\n",
        "  print(tokenizer.decode([token for token in input if token < tokenizer.vocab_size]))\n",
        "  print('\\n\\n---------------------\\n\\n')\n",
        "  print('TARGET:\\n')\n",
        "  print(tokenizer.decode([token for token in target if token < tokenizer.vocab_size]))"
      ],
      "execution_count": 11,
      "outputs": [
        {
          "output_type": "stream",
          "text": [
            "Input  Shape: (67,)\n",
            "Target Shape: (73,)\n",
            "\n",
            "INPUT:\n",
            "\n",
            "sì che dal dicer mio lo cor non parti\".\n",
            "=TER=\n",
            "E cominciò questa santa orazione:\n",
            "\n",
            "\n",
            "\n",
            "---------------------\n",
            "\n",
            "\n",
            "TARGET:\n",
            "\n",
            "sì che dal dicer mio lo cor non parti\".\n",
            "=TER=\n",
            "E cominciò questa santa orazione:\n",
            "=EOC=\n",
            "\n"
          ],
          "name": "stdout"
        }
      ]
    },
    {
      "cell_type": "markdown",
      "metadata": {
        "id": "QLSm_SHYLPAd"
      },
      "source": [
        "## **2. Model**"
      ]
    },
    {
      "cell_type": "markdown",
      "metadata": {
        "id": "1HQ5q_sIXMwh"
      },
      "source": [
        "### ***2.1 Architecture***\n",
        "\n",
        "The ***Transformer*** is a state-of-the-art model for *Natural Language Processing* and *Machine Translation* tasks proposed by *Vaswani et al.* in 2017 (https://arxiv.org/pdf/1706.03762v5.pdf)\n",
        "\n",
        "* It consists of an *Encoder* and a *Decoder*, each of them made up of a given number of layers having two sub-modules: a *Multi-Head Attention* (with a parametric number of heads) sub-module and a classical *Feed-Foward* sub-module\n",
        "\n",
        "* Also, as it does not use recurrent layers to process strictly sequential data, it both process the input data with a standard token encoding and a *positional encoding* as well\n",
        "\n",
        "The variable parameters of the model are:\n",
        "* the number of layers for the *Encoder* and the *Decoder*\n",
        "* the number of heads for the *Multi-Head Attention* sub-module\n",
        "* the dimension of all sub-layers in the model, as well as the embedding layers, known as *d_model*\n",
        "* the inner feed-forward dimension, known as *dff*\n",
        "* the dropout rate\n"
      ]
    },
    {
      "cell_type": "markdown",
      "metadata": {
        "id": "ycaKuwa51wIe"
      },
      "source": [
        "#### 2.1.1 Positional Encoding\n",
        "\n",
        "Since this model doesn't contain any recurrence or convolution, positional encoding is added to give the model some information about the relative position of the words in the sentence.\n",
        "\n",
        "The positional encoding vector is added to the embedding vector. Embeddings represent a token in a d-dimensional space where tokens with similar meaning will be closer to each other. But the embeddings do not encode the relative position of words in a sentence. So after adding the positional encoding, words will be closer to each other based on the similarity of their meaning and their position in the sentence, in the d-dimensional space.\n",
        "\n",
        "The formula for calculating the positional encoding is as follows:\n",
        "\n",
        "$$\\Large{PE_{(pos, 2i)} = sin(pos / 10000^{2i / d_{model}})} $$\n",
        "$$\\Large{PE_{(pos, 2i+1)} = cos(pos / 10000^{2i / d_{model}})} $$\n",
        "\n",
        "Where *pos* is the position of the current token in its sentence and *i* is the index of the embedding layer (from 0 to *d_model* - 1)"
      ]
    },
    {
      "cell_type": "code",
      "metadata": {
        "id": "I1PuIG_R_Wmv"
      },
      "source": [
        "import numpy as np\n",
        "\n",
        "def positional_encoding(position, d_model):\n",
        "    def get_angles(pos, i):\n",
        "        angle_rates = 1 / np.power(10000, (2 * (i // 2)) / np.float32(d_model))\n",
        "        return pos * angle_rates\n",
        "\n",
        "    angle_rads = get_angles(np.arange(position)[:, np.newaxis], np.arange(d_model)[np.newaxis, :])\n",
        "    angle_rads[:, 0::2] = np.sin(angle_rads[:, 0::2]) # apply sin to even indices in the array; 2i\n",
        "    angle_rads[:, 1::2] = np.cos(angle_rads[:, 1::2]) # apply cos to odd indices in the array; 2i+1\n",
        "    pos_encoding = angle_rads[np.newaxis, ...]\n",
        "\n",
        "    return tf.cast(pos_encoding, dtype=tf.float32)"
      ],
      "execution_count": 12,
      "outputs": []
    },
    {
      "cell_type": "markdown",
      "metadata": {
        "id": "ziSwJnN9CCIQ"
      },
      "source": [
        "#### 2.1.2 Masking\n",
        "\n",
        "The padding mask masks all the pad tokens in the batch of sequence. It ensures that the model does not treat padding as the input. The mask indicates where pad value 0 is present: it outputs a 1 at those locations, and a 0 otherwise.\n",
        "\n",
        "The look-ahead mask is used to mask the future tokens in a sequence. In other words, the mask indicates which entries should not be used.\n",
        "\n",
        "This means that to predict the third word, only the first and second word will be used. Similarly to predict the fourth word, only the first, second and the third word will be used and so on."
      ]
    },
    {
      "cell_type": "code",
      "metadata": {
        "id": "SJMWCwnb4UQe"
      },
      "source": [
        "def create_padding_mask(seq):\n",
        "    seq = tf.cast(tf.math.equal(seq, 0), tf.float32)\n",
        "    return seq[:, tf.newaxis, tf.newaxis, :]\n",
        "\n",
        "\n",
        "def create_look_ahead_mask(size):\n",
        "    mask = 1 - tf.linalg.band_part(tf.ones((size, size)), -1, 0)\n",
        "    return mask\n",
        "\n",
        "\n",
        "def create_masks(inp, tar):\n",
        "    enc_padding_mask = create_padding_mask(inp) # Encoder padding mask\n",
        "    dec_padding_mask = create_padding_mask(inp) # Decoder (2nd attention block) padding mask to mask encoder outputs\n",
        "\n",
        "    # Decoder (1st attention block) mask to pad and mask future tokens in the input received\n",
        "    look_ahead_mask = create_look_ahead_mask(tf.shape(tar)[1])\n",
        "    dec_target_padding_mask = create_padding_mask(tar)\n",
        "    combined_mask = tf.maximum(dec_target_padding_mask, look_ahead_mask)\n",
        "\n",
        "    return enc_padding_mask, combined_mask, dec_padding_mask"
      ],
      "execution_count": 13,
      "outputs": []
    },
    {
      "cell_type": "markdown",
      "metadata": {
        "id": "MgEH2aY-D6Oq"
      },
      "source": [
        " #### 2.1.3 Scaled Dot Product Attention\n",
        "\n",
        "The attention function used by the transformer takes three inputs: Q (query), K (key), V (value). The equation used to calculate the attention weights is:\n",
        "\n",
        "$$\\Large{Attention(Q, K, V) = softmax_k(\\frac{QK^T}{\\sqrt{d_k}}) V} $$\n",
        "\n"
      ]
    },
    {
      "cell_type": "code",
      "metadata": {
        "id": "jCnCYnByLvxr"
      },
      "source": [
        "def scaled_dot_product_attention(q, k, v, mask):\n",
        "    matmul_qk = tf.matmul(q, k, transpose_b=True)\n",
        "    dk = tf.cast(tf.shape(k)[-1], tf.float32)\n",
        "    scaled_attention_logits = matmul_qk / tf.math.sqrt(dk) # scale matmul_qk\n",
        "\n",
        "    if mask is not None:\n",
        "        scaled_attention_logits += (mask * -1e9) # add the mask to the scaled tensor\n",
        "\n",
        "    attention_weights = tf.nn.softmax(scaled_attention_logits, axis=-1)\n",
        "    output = tf.matmul(attention_weights, v)\n",
        "\n",
        "    return output, attention_weights"
      ],
      "execution_count": 14,
      "outputs": []
    },
    {
      "cell_type": "markdown",
      "metadata": {
        "id": "klszUs1GNhJV"
      },
      "source": [
        "#### 2.1.4 Multi-Head Attention\n",
        "\n",
        "<img src=\"https://www.tensorflow.org/images/tutorials/transformer/multi_head_attention.png\" width=\"500\" alt=\"multi-head attention\">\n",
        "\n",
        "\n",
        "Multi-head attention consists of four parts:\n",
        "*    Linear layers and split into heads.\n",
        "*    Scaled dot-product attention.\n",
        "*    Concatenation of heads.\n",
        "*    Final linear layer.\n",
        "\n",
        "Each multi-head attention block gets three inputs; Q (query), K (key), V (value). These are put through linear (Dense) layers and split up into multiple heads. \n",
        "\n",
        "The `scaled_dot_product_attention` defined above is applied to each head (broadcasted for efficiency). The attention output for each head is then concatenated and put through a final `Dense` layer."
      ]
    },
    {
      "cell_type": "code",
      "metadata": {
        "id": "JBrTIkZ6Na44"
      },
      "source": [
        "class MultiHeadAttention(tf.keras.layers.Layer):\n",
        "    def __init__(self, d_model, num_heads):\n",
        "        super(MultiHeadAttention, self).__init__()\n",
        "        self.num_heads = num_heads\n",
        "        self.d_model = d_model\n",
        "\n",
        "        assert d_model % self.num_heads == 0\n",
        "\n",
        "        self.depth = d_model // self.num_heads\n",
        "\n",
        "        self.wq = tf.keras.layers.Dense(d_model)\n",
        "        self.wk = tf.keras.layers.Dense(d_model)\n",
        "        self.wv = tf.keras.layers.Dense(d_model)\n",
        "\n",
        "        self.dense = tf.keras.layers.Dense(d_model)\n",
        "\n",
        "    def split_heads(self, x, batch_size):\n",
        "        x = tf.reshape(x, (batch_size, -1, self.num_heads, self.depth))\n",
        "        return tf.transpose(x, perm=[0, 2, 1, 3])\n",
        "\n",
        "    def call(self, v, k, q, mask):\n",
        "        batch_size = tf.shape(q)[0]\n",
        "\n",
        "        q = self.wq(q)\n",
        "        k = self.wk(k)\n",
        "        v = self.wv(v)\n",
        "\n",
        "        q = self.split_heads(q, batch_size)\n",
        "        k = self.split_heads(k, batch_size)\n",
        "        v = self.split_heads(v, batch_size)\n",
        "\n",
        "        scaled_attention, attention_weights = scaled_dot_product_attention(q, k, v, mask)\n",
        "        scaled_attention = tf.transpose(scaled_attention, perm=[0, 2, 1, 3])\n",
        "        concat_attention = tf.reshape(scaled_attention, (batch_size, -1, self.d_model))\n",
        "        output = self.dense(concat_attention)\n",
        "\n",
        "        return output, attention_weights"
      ],
      "execution_count": 15,
      "outputs": []
    },
    {
      "cell_type": "markdown",
      "metadata": {
        "id": "AdBYGKYmVZwV"
      },
      "source": [
        "#### 2.1.5 Point Wise Feed Forward Network\n",
        "\n",
        "Point wise feed forward network consists of two fully-connected layers with a ReLU activation in between."
      ]
    },
    {
      "cell_type": "code",
      "metadata": {
        "id": "wyMPGtG0mtIY"
      },
      "source": [
        "def point_wise_feed_forward_network(d_model, dff):\n",
        "    return tf.keras.Sequential([\n",
        "        tf.keras.layers.Dense(dff, activation='relu'),\n",
        "        tf.keras.layers.Dense(d_model)\n",
        "    ])"
      ],
      "execution_count": 16,
      "outputs": []
    },
    {
      "cell_type": "markdown",
      "metadata": {
        "id": "7b2LUFJLYcRo"
      },
      "source": [
        "#### 2.1.6 Encoder Layer\n",
        "\n",
        "Each encoder layer consists of sublayers:\n",
        "\n",
        "1.   Multi-head attention (with padding mask) \n",
        "2.    Point wise feed forward networks. \n",
        "\n",
        "Each of these sublayers has a residual connection around it followed by a layer normalization. Residual connections help in avoiding the vanishing gradient problem in deep networks.\n",
        "\n",
        "The output of each sublayer is `LayerNorm(x + Sublayer(x))`. There are N encoder layers in the transformer."
      ]
    },
    {
      "cell_type": "code",
      "metadata": {
        "id": "CENu7qvwmZ2j"
      },
      "source": [
        "class EncoderLayer(tf.keras.layers.Layer):\n",
        "    def __init__(self, d_model, num_heads, dff, rate=0.1):\n",
        "        super(EncoderLayer, self).__init__()\n",
        "        self.mha = MultiHeadAttention(d_model, num_heads)\n",
        "        self.ffn = point_wise_feed_forward_network(d_model, dff)\n",
        "        self.layernorm1 = tf.keras.layers.LayerNormalization(epsilon=1e-6)\n",
        "        self.layernorm2 = tf.keras.layers.LayerNormalization(epsilon=1e-6)\n",
        "        self.dropout1 = tf.keras.layers.Dropout(rate)\n",
        "        self.dropout2 = tf.keras.layers.Dropout(rate)\n",
        "\n",
        "    def call(self, x, training, mask):\n",
        "        attn_output, _ = self.mha(x, x, x, mask)\n",
        "        attn_output = self.dropout1(attn_output, training=training)\n",
        "        out1 = self.layernorm1(x + attn_output)\n",
        "        ffn_output = self.ffn(out1)\n",
        "        ffn_output = self.dropout2(ffn_output, training=training)\n",
        "        out2 = self.layernorm2(out1 + ffn_output)\n",
        "        return out2"
      ],
      "execution_count": 17,
      "outputs": []
    },
    {
      "cell_type": "markdown",
      "metadata": {
        "id": "4k64WzBJa2Nv"
      },
      "source": [
        "#### 2.1.7 Decoder Layer\n",
        "\n",
        "Each decoder layer consists of sublayers:\n",
        "\n",
        "1.   Masked multi-head attention (with look ahead mask and padding mask)\n",
        "2.   Multi-head attention (with padding mask). V (value) and K (key) receive the *encoder output* as inputs. Q (query) receives the *output from the masked multi-head attention sublayer.*\n",
        "3.   Point wise feed forward networks\n",
        "\n",
        "Each of these sublayers has a residual connection around it followed by a layer normalization. The output of each sublayer is `LayerNorm(x + Sublayer(x))`. There are N decoder layers in the transformer."
      ]
    },
    {
      "cell_type": "code",
      "metadata": {
        "id": "ITOs0l7WmCNp"
      },
      "source": [
        "class DecoderLayer(tf.keras.layers.Layer):\n",
        "    def __init__(self, d_model, num_heads, dff, rate=0.1):\n",
        "        super(DecoderLayer, self).__init__()\n",
        "        self.mha1 = MultiHeadAttention(d_model, num_heads)\n",
        "        self.mha2 = MultiHeadAttention(d_model, num_heads)\n",
        "        self.ffn = point_wise_feed_forward_network(d_model, dff)\n",
        "        self.layernorm1 = tf.keras.layers.LayerNormalization(epsilon=1e-6)\n",
        "        self.layernorm2 = tf.keras.layers.LayerNormalization(epsilon=1e-6)\n",
        "        self.layernorm3 = tf.keras.layers.LayerNormalization(epsilon=1e-6)\n",
        "        self.dropout1 = tf.keras.layers.Dropout(rate)\n",
        "        self.dropout2 = tf.keras.layers.Dropout(rate)\n",
        "        self.dropout3 = tf.keras.layers.Dropout(rate)\n",
        "\n",
        "    def call(self, x, enc_output, training, look_ahead_mask, padding_mask):\n",
        "        attn1, attn_weights_block1 = self.mha1(x, x, x, look_ahead_mask)\n",
        "        attn1 = self.dropout1(attn1, training=training)\n",
        "        out1 = self.layernorm1(attn1 + x)\n",
        "        attn2, attn_weights_block2 = self.mha2(enc_output, enc_output, out1, padding_mask)\n",
        "        attn2 = self.dropout2(attn2, training=training)\n",
        "        out2 = self.layernorm2(attn2 + out1)\n",
        "        ffn_output = self.ffn(out2)\n",
        "        ffn_output = self.dropout3(ffn_output, training=training)\n",
        "        out3 = self.layernorm3(ffn_output + out2)\n",
        "        return out3, attn_weights_block1, attn_weights_block2"
      ],
      "execution_count": 18,
      "outputs": []
    },
    {
      "cell_type": "markdown",
      "metadata": {
        "id": "YoWDFDtbc5Er"
      },
      "source": [
        "#### 2.1.8 Encoder\n",
        "\n",
        "The `Encoder` consists of:\n",
        "1.   Input Embedding\n",
        "2.   Positional Encoding\n",
        "3.   N encoder layers\n",
        "\n",
        "The input is put through an embedding which is summed with the positional encoding. The output of this summation is the input to the encoder layers. The output of the encoder is the input to the decoder.\n"
      ]
    },
    {
      "cell_type": "code",
      "metadata": {
        "id": "7cyiis-WZE6D"
      },
      "source": [
        "class Encoder(tf.keras.layers.Layer):\n",
        "    def __init__(self, num_layers, d_model, num_heads, dff, input_vocab_size, maximum_position_encoding, rate=0.1):\n",
        "        super(Encoder, self).__init__()\n",
        "        self.d_model = d_model\n",
        "        self.num_layers = num_layers\n",
        "        self.embedding = tf.keras.layers.Embedding(input_vocab_size, d_model)\n",
        "        self.pos_encoding = positional_encoding(maximum_position_encoding, self.d_model)\n",
        "        self.enc_layers = [EncoderLayer(d_model, num_heads, dff, rate) for _ in range(num_layers)]\n",
        "        self.dropout = tf.keras.layers.Dropout(rate)\n",
        "\n",
        "    def call(self, x, training, mask):\n",
        "        seq_len = tf.shape(x)[1]\n",
        "        x = self.embedding(x)\n",
        "        x *= tf.math.sqrt(tf.cast(self.d_model, tf.float32))\n",
        "        x += self.pos_encoding[:, :seq_len, :]\n",
        "        x = self.dropout(x, training=training)\n",
        "        for i in range(self.num_layers):\n",
        "            x = self.enc_layers[i](x, training, mask)\n",
        "        return x"
      ],
      "execution_count": 19,
      "outputs": []
    },
    {
      "cell_type": "markdown",
      "metadata": {
        "id": "--O7MFzQc557"
      },
      "source": [
        "#### 2.1.9 Decoder\n",
        "\n",
        "The `Decoder` consists of:\n",
        "1.   Output Embedding\n",
        "2.   Positional Encoding\n",
        "3.   N decoder layers\n",
        "\n",
        "The target is put through an embedding which is summed with the positional encoding. The output of this summation is the input to the decoder layers. The output of the decoder is the input to the final linear layer."
      ]
    },
    {
      "cell_type": "code",
      "metadata": {
        "id": "0KIiqhA-ZOeA"
      },
      "source": [
        "class Decoder(tf.keras.layers.Layer):\n",
        "    def __init__(self, num_layers, d_model, num_heads, dff, target_vocab_size, maximum_position_encoding, rate=0.1):\n",
        "        super(Decoder, self).__init__()\n",
        "        self.d_model = d_model\n",
        "        self.num_layers = num_layers\n",
        "        self.embedding = tf.keras.layers.Embedding(target_vocab_size, d_model)\n",
        "        self.pos_encoding = positional_encoding(maximum_position_encoding, d_model)\n",
        "        self.dec_layers = [DecoderLayer(d_model, num_heads, dff, rate) for _ in range(num_layers)]\n",
        "        self.dropout = tf.keras.layers.Dropout(rate)\n",
        "\n",
        "    def call(self, x, enc_output, training, look_ahead_mask, padding_mask):\n",
        "        seq_len = tf.shape(x)[1]\n",
        "        attention_weights = {}\n",
        "        x = self.embedding(x)\n",
        "        x *= tf.math.sqrt(tf.cast(self.d_model, tf.float32))\n",
        "        x += self.pos_encoding[:, :seq_len, :]\n",
        "        x = self.dropout(x, training=training)\n",
        "        for i in range(self.num_layers):\n",
        "            x, block1, block2 = self.dec_layers[i](x, enc_output, training, look_ahead_mask, padding_mask)\n",
        "            attention_weights['decoder_layer{}_block1'.format(i + 1)] = block1\n",
        "            attention_weights['decoder_layer{}_block2'.format(i + 1)] = block2\n",
        "        return x, attention_weights"
      ],
      "execution_count": 20,
      "outputs": []
    },
    {
      "cell_type": "markdown",
      "metadata": {
        "id": "yVnhs9Thd22w"
      },
      "source": [
        "#### 2.1.10 Transformer\n",
        "\n",
        "Transformer consists of the encoder, decoder and a final linear layer. The output of the decoder is the input to the linear layer and its output is returned."
      ]
    },
    {
      "cell_type": "code",
      "metadata": {
        "id": "NpRKsh81_vLQ"
      },
      "source": [
        "class Transformer(tf.keras.Model):\n",
        "    def __init__(self, num_layers, d_model, num_heads, dff, input_vocab_size, target_vocab_size, pe_input, pe_target,\n",
        "                 rate=0.1):\n",
        "        super(Transformer, self).__init__()\n",
        "        self.encoder = Encoder(num_layers, d_model, num_heads, dff, input_vocab_size, pe_input, rate)\n",
        "        self.decoder = Decoder(num_layers, d_model, num_heads, dff, target_vocab_size, pe_target, rate)\n",
        "        self.final_layer = tf.keras.layers.Dense(target_vocab_size)\n",
        "\n",
        "    def call(self, inp, tar, training, enc_padding_mask, look_ahead_mask, dec_padding_mask):\n",
        "        enc_output = self.encoder(inp, training, enc_padding_mask)\n",
        "        dec_output, attention_weights = self.decoder(tar, enc_output, training, look_ahead_mask, dec_padding_mask)\n",
        "        final_output = self.final_layer(dec_output)\n",
        "        return final_output, attention_weights"
      ],
      "execution_count": 21,
      "outputs": []
    },
    {
      "cell_type": "markdown",
      "metadata": {
        "id": "m_UpKipt_2Fl"
      },
      "source": [
        "#### 2.1.11 Learning Rate Scheduler\n",
        "\n",
        "The learning rate scheduler is set accordingly to the formula in the paper of Vaswani et al. (2017)\n",
        "\n",
        "$$\\Large{lrate = d_{model}^{-0.5} * min(step{\\_}num^{-0.5}, step{\\_}num * warmup{\\_}steps^{-1.5})}$$"
      ]
    },
    {
      "cell_type": "code",
      "metadata": {
        "id": "Lh0rN1uAkv-K"
      },
      "source": [
        "class CustomSchedule(tf.keras.optimizers.schedules.LearningRateSchedule):\n",
        "    def __init__(self, d_model, warmup_steps=4000):\n",
        "        super(CustomSchedule, self).__init__()\n",
        "        self.d_model = d_model\n",
        "        self.d_model = tf.cast(self.d_model, tf.float32)\n",
        "        self.warmup_steps = warmup_steps\n",
        "\n",
        "    def __call__(self, step):\n",
        "        arg1 = tf.math.rsqrt(step)\n",
        "        arg2 = step * (self.warmup_steps ** -1.5)\n",
        "        return tf.math.rsqrt(self.d_model) * tf.math.minimum(arg1, arg2)"
      ],
      "execution_count": 22,
      "outputs": []
    },
    {
      "cell_type": "markdown",
      "metadata": {
        "id": "TfMJnI5JHIVQ"
      },
      "source": [
        "#### 2.1.12 Loss and Metrics\n",
        "\n",
        "The loss used is `SparseCategoricalCrossentropy` and the metric used is `SparseCategoricalAccuracy`. Since the target sequences are padded, it is important to apply a padding mask when calculating the loss.\n",
        "\n"
      ]
    },
    {
      "cell_type": "code",
      "metadata": {
        "id": "mZWl2gUXI2Du"
      },
      "source": [
        "history = {'train loss': [], 'train acc': [], 'val loss': [], 'val acc': []}\n",
        "\n",
        "loss_object = tf.keras.losses.SparseCategoricalCrossentropy(from_logits=True, reduction='none')\n",
        "train_loss = tf.keras.metrics.Mean(name='train_loss')\n",
        "train_accuracy = tf.keras.metrics.SparseCategoricalAccuracy(name='train_accuracy')\n",
        "val_loss = tf.keras.metrics.Mean(name='val_loss')\n",
        "val_accuracy = tf.keras.metrics.SparseCategoricalAccuracy(name='val_accuracy')\n",
        "\n",
        "def loss_function(real, pred):\n",
        "    mask = tf.math.logical_not(tf.math.equal(real, 0))\n",
        "    loss_ = loss_object(real, pred)\n",
        "    mask = tf.cast(mask, dtype=loss_.dtype)\n",
        "    loss_ *= mask\n",
        "    return tf.reduce_sum(loss_) / tf.reduce_sum(mask)"
      ],
      "execution_count": 23,
      "outputs": []
    },
    {
      "cell_type": "markdown",
      "metadata": {
        "id": "HWjWvCscKZ-2"
      },
      "source": [
        "#### 2.1.13 Training and Validation Steps"
      ]
    },
    {
      "cell_type": "code",
      "metadata": {
        "id": "lPZDGEeATZ7g"
      },
      "source": [
        "step_signature = [\n",
        "    tf.TensorSpec(shape=(None, None), dtype=tf.int64),\n",
        "    tf.TensorSpec(shape=(None, None), dtype=tf.int64),\n",
        "]\n",
        "\n",
        "@tf.function(input_signature=step_signature)\n",
        "def train_step(inp, tar):\n",
        "  tar_inp = tar[:, :-1]\n",
        "  tar_real = tar[:, 1:]\n",
        "  \n",
        "  enc_padding_mask, combined_mask, dec_padding_mask = create_masks(inp, tar_inp)\n",
        "  with tf.GradientTape() as tape:\n",
        "    predictions, _ = model(inp, tar_inp, True, enc_padding_mask, combined_mask, dec_padding_mask)\n",
        "    loss = loss_function(tar_real, predictions)\n",
        "\n",
        "  gradients = tape.gradient(loss, model.trainable_variables)    \n",
        "  optimizer.apply_gradients(zip(gradients, model.trainable_variables))\n",
        "  \n",
        "  train_loss(loss)\n",
        "  train_accuracy(tar_real, predictions)\n",
        "\n",
        "@tf.function(input_signature=step_signature)\n",
        "def val_step(inp, tar):\n",
        "  tar_inp = tar[:, :-1]\n",
        "  tar_real = tar[:, 1:]\n",
        "  \n",
        "  enc_padding_mask, combined_mask, dec_padding_mask = create_masks(inp, tar_inp)\n",
        "  with tf.GradientTape() as tape:\n",
        "    predictions, _ = model(inp, tar_inp, True, enc_padding_mask, combined_mask, dec_padding_mask)\n",
        "    loss = loss_function(tar_real, predictions)\n",
        "\n",
        "  val_loss(loss)\n",
        "  val_accuracy(tar_real, predictions)"
      ],
      "execution_count": 24,
      "outputs": []
    },
    {
      "cell_type": "markdown",
      "metadata": {
        "id": "wwYL2GsLKl2R"
      },
      "source": [
        "#### 2.1.14 Model Summary"
      ]
    },
    {
      "cell_type": "code",
      "metadata": {
        "id": "ViSIDkxHTa_b",
        "colab": {
          "base_uri": "https://localhost:8080/"
        },
        "outputId": "d482a78f-a224-4836-a2b2-2f8ee0377442"
      },
      "source": [
        "from tensorflow.keras.optimizers import Adam\n",
        "\n",
        "num_layers = 3\n",
        "num_heads = 4\n",
        "d_model = 256\n",
        "dff = 512\n",
        "dropout = 0.2\n",
        "input_vocab_size = tokenizer.vocab_size + 2\n",
        "target_vocab_size = tokenizer.vocab_size + 2\n",
        "optimizer = Adam(CustomSchedule(d_model), beta_1=0.9, beta_2=0.98, epsilon=1e-9)\n",
        "\n",
        "model = Transformer(\n",
        "    num_layers, d_model, num_heads, dff,\n",
        "    input_vocab_size, target_vocab_size,\n",
        "    pe_input=input_vocab_size, pe_target=target_vocab_size,\n",
        "    rate=dropout\n",
        ")\n",
        "\n",
        "for (inp, tar) in train_dataset.take(1):\n",
        "  val_step(inp, tar)\n",
        "\n",
        "model.summary()"
      ],
      "execution_count": 25,
      "outputs": [
        {
          "output_type": "stream",
          "text": [
            "Model: \"transformer\"\n",
            "_________________________________________________________________\n",
            "Layer (type)                 Output Shape              Param #   \n",
            "=================================================================\n",
            "encoder (Encoder)            multiple                  2472192   \n",
            "_________________________________________________________________\n",
            "decoder (Decoder)            multiple                  3263232   \n",
            "_________________________________________________________________\n",
            "dense_48 (Dense)             multiple                  894360    \n",
            "=================================================================\n",
            "Total params: 6,629,784\n",
            "Trainable params: 6,629,784\n",
            "Non-trainable params: 0\n",
            "_________________________________________________________________\n"
          ],
          "name": "stdout"
        }
      ]
    },
    {
      "cell_type": "markdown",
      "metadata": {
        "id": "sG39RjwxY-xB"
      },
      "source": [
        "### ***2.2 Training***"
      ]
    },
    {
      "cell_type": "code",
      "metadata": {
        "id": "uyVQkUkHMXPI",
        "colab": {
          "base_uri": "https://localhost:8080/"
        },
        "outputId": "93ee68a3-10d2-4330-ca94-cd76082bcae0"
      },
      "source": [
        "import os\n",
        "import time\n",
        "\n",
        "epochs = 0\n",
        "\n",
        "if os.path.isfile('model.h5'):\n",
        "  model.load_weights('model.h5')\n",
        "  print('Model restored')\n",
        "else:\n",
        "  epochs = 70\n",
        "  batches_interval = 20\n",
        "\n",
        "  for epoch in range(epochs):\n",
        "    start = time.time()\n",
        "    train_loss.reset_states()\n",
        "    train_accuracy.reset_states()\n",
        "    val_loss.reset_states()\n",
        "    val_accuracy.reset_states()\n",
        "    print(f'Starting Epoch {epoch+1}/{epochs}')\n",
        "    \n",
        "    for (batch, (inp, tar)) in enumerate(train_dataset):\n",
        "      train_step(inp, tar)\n",
        "      if (batch + 1) % batches_interval == 0:\n",
        "        print(f'  > Batch {batch+1}', end=' \\t\\t ')\n",
        "        print(f'- train_loss: {train_loss.result():.4f} - train_acc: {train_accuracy.result():.4f}')      \n",
        "    history['train loss'].append(train_loss.result())\n",
        "    history['train acc'].append(train_accuracy.result())\n",
        "\n",
        "    for (batch, (inp, tar)) in enumerate(val_dataset):\n",
        "      val_step(inp, tar)  \n",
        "    history['val loss'].append(val_loss.result())\n",
        "    history['val acc'].append(val_accuracy.result())\n",
        "\n",
        "    elapsed = time.time() - start\n",
        "    print(f'Ending Epoch {epoch+1}/{epochs}', end=' \\t ')\n",
        "    print(f'- train_loss: {history[\"train loss\"][-1]:.4f} - train_acc: {history[\"train acc\"][-1]:.4f}', end=' ')\n",
        "    print(f'- val_loss: {history[\"val loss\"][-1]:.4f} - val_acc: {history[\"val acc\"][-1]:.4f}')\n",
        "    print(f'Elapsed Time {elapsed:.2f}s\\n')"
      ],
      "execution_count": 26,
      "outputs": [
        {
          "output_type": "stream",
          "text": [
            "Model restored\n"
          ],
          "name": "stdout"
        }
      ]
    },
    {
      "cell_type": "markdown",
      "metadata": {
        "id": "Nuvvp5hygYOv"
      },
      "source": [
        "Here's a graphical representation of the improvement of the model, with respect both to the loss and the accuracy, across the epochs"
      ]
    },
    {
      "cell_type": "code",
      "metadata": {
        "id": "6GPN1Jo0gXpQ"
      },
      "source": [
        "import matplotlib.pyplot as plt\n",
        "import seaborn as sns\n",
        "\n",
        "sns.set_style('darkgrid')\n",
        "sns.set_context('notebook')\n",
        "\n",
        "if epochs > 0:\n",
        "  plt.figure(figsize=(12, 5))\n",
        "\n",
        "  plt.subplot(1, 2, 1)\n",
        "  plt.plot(np.arange(epochs) + 1, history['train loss'], label='train')\n",
        "  plt.plot(np.arange(epochs) + 1, history['val loss'], label='val')\n",
        "  plt.legend()\n",
        "  plt.title('Loss')\n",
        "\n",
        "  plt.subplot(1, 2, 2)\n",
        "  plt.plot(np.arange(epochs) + 1, history['train acc'], label='train')\n",
        "  plt.plot(np.arange(epochs) + 1, history['val acc'], label='val')\n",
        "  plt.legend()\n",
        "  plt.title('Accuracy')\n",
        "\n",
        "  plt.show()"
      ],
      "execution_count": 27,
      "outputs": []
    },
    {
      "cell_type": "markdown",
      "metadata": {
        "id": "TGKbUSPZZOw_"
      },
      "source": [
        "## **3. Results**\n",
        "\n",
        "Here, at first, we will use the model to predict some verses and show the respective attention plots to understand how the model is behaving, then, we will proceed with the generation of a full canto, which uses a `temperature_factor` to allow some degree of randomness\n",
        "\n",
        "> The next token is chosen among a subset of those having a probability which is at least `1 / temperature_factor` with respect to the maximal one\n",
        "\n",
        "> It goes without saying that a higher `temperature_factor` leads to a more explorative generation, while a lower `temperature_factor` leads to a more conservative one (in particular, with `temperature_factor = 1` the generation is completely deterministic)"
      ]
    },
    {
      "cell_type": "markdown",
      "metadata": {
        "id": "TDPUFbixAiyx"
      },
      "source": [
        "### ***3.1 Evaluation***\n",
        "\n"
      ]
    },
    {
      "cell_type": "code",
      "metadata": {
        "id": "CcnsT9XGA0OG"
      },
      "source": [
        "from tensorflow.nn import softmax\n",
        "\n",
        "newline_token = tokenizer.encode('\\n')[0]\n",
        "\n",
        "# produce output verses starting from a given input list of verses\n",
        "def evaluate(inp_list, max_length=35, temperature_factor=1, verbose=False):\n",
        "  # the input is the tokenized string obtained from the given input list\n",
        "  input = tokenizer.encode('\\n'.join(inp_list))\n",
        "\n",
        "  # the encoder input is surrounded by a start and an end token\n",
        "  encoder_input = tf.expand_dims([tokenizer.vocab_size] + input + [tokenizer.vocab_size + 1], 0)\n",
        "\n",
        "  # the decoder input is the same sentence preceded by a start token\n",
        "  decoder_input = tf.expand_dims([tokenizer.vocab_size] + input, 0)\n",
        "\n",
        "  # the final output of the evaluation (initially, this is an empty list)\n",
        "  output = []\n",
        "\n",
        "  # we repeat the process to get the entire verse (until the end token or the newline token is predicted)\n",
        "  for i in range(max_length):\n",
        "    enc_padding_mask, combined_mask, dec_padding_mask = create_masks(encoder_input, decoder_input)  \n",
        "    logits, attention_weights = model(\n",
        "        encoder_input, decoder_input, False,\n",
        "        enc_padding_mask, combined_mask, dec_padding_mask\n",
        "    )\n",
        "\n",
        "    # we get the probabilities for the decoded token (the last one)\n",
        "    probabilities = softmax(logits[0, -1, :tokenizer.vocab_size]).numpy()\n",
        "\n",
        "    # we take a subset of possible tokens whose probability is at least 1/temperature_factor of the maximal one\n",
        "    indices = np.arange(tokenizer.vocab_size)[probabilities >= probabilities.max() / temperature_factor]\n",
        "\n",
        "    # we renormalize this subset using, again, a softmax activation\n",
        "    probabilities = softmax(probabilities[probabilities >= probabilities.max() / temperature_factor]).numpy()\n",
        "    \n",
        "    # the id is randomly chosen among the indices according to the computed probabilities\n",
        "    predicted_id = np.random.choice(indices, size=1, p=probabilities)[0]\n",
        "    \n",
        "    # if the token coincides with the nd token or the newline token, the generation is interrupted\n",
        "    if predicted_id == newline_token or predicted_id >= tokenizer.vocab_size:\n",
        "      break\n",
        "\n",
        "    # otherwise the token is appended both to the new decoder input and to the final output\n",
        "    decoder_input = tf.concat([decoder_input, [[predicted_id]]], axis=-1)\n",
        "    output.append(predicted_id)\n",
        "\n",
        "    if verbose:\n",
        "      print(tokenizer.decode([predicted_id]), end='')\n",
        "\n",
        "  return output, attention_weights"
      ],
      "execution_count": 28,
      "outputs": []
    },
    {
      "cell_type": "code",
      "metadata": {
        "id": "wJQpqS9CB1kG"
      },
      "source": [
        "def plot_attention_weights(attention, sentence, result, layer):\n",
        "  fig = plt.figure(figsize=(25, 25))  \n",
        "  sentence = tokenizer.encode(sentence)\n",
        "  attention = tf.squeeze(attention[layer], axis=0)\n",
        "  \n",
        "  for head in range(attention.shape[0]):\n",
        "    ax = fig.add_subplot(attention.shape[0], 1, head+1)\n",
        "    ax.matshow(attention[head][:-1, :], cmap='gray')\n",
        "    fontdict = {'fontsize': 18}    \n",
        "    ax.set_xticks(range(len(sentence)+2))\n",
        "    ax.set_yticks(range(len(result)))    \n",
        "    ax.set_ylim(len(result)-1.5, -0.5)\n",
        "    ax.set_xticklabels(['<start>'] + [tokenizer.decode([i]) for i in sentence] + ['<end>'], fontdict=fontdict, rotation=90)\n",
        "    ax.set_yticklabels([tokenizer.decode([i]) for i in result if 0 < i < tokenizer.vocab_size], fontdict=fontdict)\n",
        "    ax.set_xlabel('Head {}'.format(head+1))\n",
        "  \n",
        "  plt.tight_layout()\n",
        "  plt.show()"
      ],
      "execution_count": 29,
      "outputs": []
    },
    {
      "cell_type": "code",
      "metadata": {
        "id": "_UIuvilWClPf",
        "colab": {
          "base_uri": "https://localhost:8080/",
          "height": 1000
        },
        "outputId": "84d64792-07f9-483c-f2f4-dd91205a26cd"
      },
      "source": [
        "i = 9\n",
        "sentence_list = divine_comedy_split[i:i+seq_length] + ['']\n",
        "\n",
        "sentence = '\\n'.join(sentence_list)\n",
        "target, attention_weights = evaluate(sentence_list)\n",
        "\n",
        "print('INPUT:')\n",
        "print(sentence)\n",
        "print()\n",
        "print('TARGET:')\n",
        "print(tokenizer.decode([t for t in target if 0 < t < tokenizer.vocab_size]))\n",
        "print()\n",
        "plot_attention_weights(attention_weights, sentence, target, 'decoder_layer3_block2')"
      ],
      "execution_count": 30,
      "outputs": [
        {
          "output_type": "stream",
          "text": [
            "INPUT:\n",
            "=TER=\n",
            "Tant' è amara che poco è più morte;\n",
            "ma per trattar del ben ch'i' vi trovai,\n",
            "\n",
            "\n",
            "TARGET:\n",
            "dirò de l'altre cose ch'i' v'ho scorte.\n",
            "\n"
          ],
          "name": "stdout"
        },
        {
          "output_type": "display_data",
          "data": {
            "image/png": "[encoded data removed]",
            "text/plain": [
              "<Figure size 1800x1800 with 4 Axes>"
            ]
          },
          "metadata": {
            "tags": []
          }
        }
      ]
    },
    {
      "cell_type": "markdown",
      "metadata": {
        "id": "05Mk_Fqnjj2I"
      },
      "source": [
        "### ***3.2 Generation***"
      ]
    },
    {
      "cell_type": "code",
      "metadata": {
        "id": "zyq4PC2hSL1Z"
      },
      "source": [
        "def generate(\n",
        "    input_string=divine_comedy_tagged[:386], # first three tercets of the comedy\n",
        "    max_iterations=250, end_marker=MARKERS['canto end'],\n",
        "    temperature_factor=1.0, verbose=False\n",
        "):\n",
        "  # at the beginning, the generated string is the encoding of the input string (plus a newline character)\n",
        "  generated_string = input_string\n",
        "\n",
        "  for i in range(max_iterations):\n",
        "    # the input list is made up of the last 'seq_length' verses (-1 for the last blank verse to be filled)\n",
        "    input_list = generated_string.split('\\n')[-seq_length-1:]\n",
        "\n",
        "    # the generated verse is then decoded\n",
        "    target, _ = evaluate(input_list, temperature_factor=temperature_factor, verbose=verbose)\n",
        "    generated_verse = tokenizer.decode(target)\n",
        "    if verbose:\n",
        "      print()\n",
        "\n",
        "    # if the verse coincides with the end marker, the generation is interrupted, otherwise it is appended with a newline\n",
        "    if generated_verse == end_marker:\n",
        "      break\n",
        "    generated_string += generated_verse + '\\n'\n",
        "  \n",
        "  # we finally return the decoded (and untagged) string, excluding the input provided by the user\n",
        "  return untag(generated_string[len(input_string):])"
      ],
      "execution_count": 31,
      "outputs": []
    },
    {
      "cell_type": "code",
      "metadata": {
        "id": "svS82ObpMh2o",
        "colab": {
          "base_uri": "https://localhost:8080/"
        },
        "outputId": "e1728b3d-d954-469b-9c93-f6b068290d8f"
      },
      "source": [
        "generated_canto = generate(temperature_factor=1.0, verbose=True)"
      ],
      "execution_count": 32,
      "outputs": [
        {
          "output_type": "stream",
          "text": [
            "per me' chii' chini,\n",
            "ma 'l tuo sommo bene è tanto,\n",
            "si disse: \"Maestro, or mi puoi il mio paterno;\n",
            "=TER=\n",
            "e cerchio il suggel cor santo stretto\n",
            "de la virtù che fa conviene al segno,\n",
            "e al tratto mio ben l'innocenti al petto.\n",
            "=TER=\n",
            "In quel che piace a me l'hanno in ira\n",
            "fosse in quel che ci ha fatto in ira,\n",
            "secondo che Dio convien che più spira.\n",
            "=TER=\n",
            "Se venir sù l'allor vi disira\",\n",
            "disse 'l maestro mio sanza parte accende,\n",
            "\"quel bene ha mestier di là si tira\".\n",
            "=TER=\n",
            "E io l'accorgor; né lo ritene,\n",
            "ho io d'i pianeti che far l'esser legge,\n",
            "né ferma qui pena che non m'accende.\n",
            "=TER=\n",
            "E 'l savio come me stesse cade\n",
            "de la mente lor di quei che 'l ciel chiaro\n",
            "tutte quante a la quattro strade.\n",
            "=TER=\n",
            "Con più oltre era ancor non sanza giuro,\n",
            "così per esser lor passaver remi\n",
            "poscia che nel viso suo ver giuro.\n",
            "=TER=\n",
            "Ma quel digiunto, del nostro mondo\n",
            "sen va in dietro, e 'l viso girone\n",
            "del tuo maestro e io disir mi secondo;\n",
            "=TER=\n",
            "e quel che più lieve si può fare,\n",
            "s'io non era ancor di là dal volto,\n",
            "come fa di noi per la grazia non si chiude.\n",
            "=TER=\n",
            "Ma quella vedta tutto quanto aspetto\n",
            "che colpa negasse quel che t'assotta,\n",
            "prezïoso mia mente mia benedetta,\n",
            "=TER=\n",
            "e la vostra natura e voi siete\n",
            "onesto voi natura, e asti e voi lieta\n",
            "la voi che la persona e la spira.\n",
            "=TER=\n",
            "Tu se' sì pietà perché l'lieta cade\n",
            "che 'l loco ove s'infiamma e ciò guarda,\n",
            "che dal cor sovra nostro amor vade.\n",
            "=TER=\n",
            "Ver è ch'altra fïata quanto non ti sponda\n",
            "la carne che s'infiamma e sparse,\n",
            "e qualite ad una altra imagina.\n",
            "=TER=\n",
            "Noi ci vidi due col sol di cose\n",
            "eravamo imagine come l'ultima ripa,\n",
            "la donna mia così ferita imposte.\n",
            "=TER=\n",
            "Quella circulazion che sì dura\n",
            "facevan lui far di sé sarebbe,\n",
            "come solo il sol mio inganna.\n",
            "=TER=\n",
            "E come quel cui venimmo al girale\n",
            "si volge intorno, come l'occhio intorno\n",
            "qual è più grande e più non si sale\".\n",
            "=TER=\n",
            "Quanto più torcer di là è corpo orno;\n",
            "e questo passar per lo gran distinto,\n",
            "poscia che 'l cerchio di quel di addorno.\n",
            "=TER=\n",
            "E come l'infima quanto era quinto\n",
            "di ciò che fosse il suo fattore tempio,\n",
            "e non per lo lume del vento di quanto;\n",
            "=TER=\n",
            "ma come a guarda e vidi costui,\n",
            "per l'orribil sabbion di là possente,\n",
            "vid' io verso noi là sù ver' esso.\n",
            "=TER=\n",
            "Però disse: \"Tu vedrai gente ride\n",
            "se non fosti a come tu degna,\n",
            "sì che 'l mortal divina voglia,\n",
            "=TER=\n",
            "e come 'l quale in sù non si convegna\n",
            "de l'etterno valore, e qual io vidi\n",
            "quand' io mi traggon d'una parte degna.\n",
            "=TER=\n",
            "Lo duca mio intende, e tutti altri giri\n",
            "di ciò che dal convenrio corso è procede\n",
            "la bocca e con sì dolcemente e spiri.\n",
            "=TER=\n",
            "Mentre che andar per l'occhio sì fiere,\n",
            "che pria lor veder prima e lor maggiori,\n",
            "e libente di Dio non fosse sole.\n",
            "=TER=\n",
            "Vedi che la mia mente se tu di spli,\n",
            "dicendor: \"Segnor mio, e tu non torni\n",
            "ch'i' non potrei or chi ti disnodi\".\n",
            "=TER=\n",
            "\"O mio padre mio, \"sanza servo torni\",\n",
            "rispuos' io, \"e io cominciai ed esso,\n",
            "\"tra 'l gran non conosciuto li pieni.\n",
            "=TER=\n",
            "\"O navicao del piacero o pavento\n",
            "che suoli il capo mio in su la aperta\",\n",
            "disse 'l maestro, \"io li dissi e 'l sento\".\n",
            "=TER=\n",
            "Ond' elli a lui: \"Se tu non ti raccerta\n",
            "lo duca mio a cui la meta al tratto\n",
            "de la nostra occulta mente mia scorta;\n",
            "=TER=\n",
            "e tal girando il mio cor de l'agutto\n",
            "di sovra sé un punto da cammino,\n",
            "quand' io mi volsi al suo dir tutto.\n",
            "=TER=\n",
            "Non vidi sùbito lor visto e speraro,\n",
            "che fosse in una nave gridò: \"Perché fine\n",
            "le tue parole il nostro e nel chiaro\".\n",
            "=TER=\n",
            "E io a l'un duca mio di lei accese;\n",
            "per ch'io mi parsi e l'altro parlare,\n",
            "lo sol va un poco a l'affisse e come 'l prende.\n",
            "=TER=\n",
            "E come l'altre facea ch'i' mi parve\n",
            "dimando per quella luce che ne l'un l'aspetto\n",
            "che per udir come fa che 'l dolce.\n",
            "=TER=\n",
            "Sì come de l'altra vita diletto\n",
            "per veder se tu così lo scoglio,\n",
            "come tu fosti, in altro ben diletto.\n",
            "=TER=\n",
            "E come quel può nessun si raccoggio\n",
            "di quel cui trestizzo fiammeggiar m'accorgo\n",
            "l'ardor de li occhi al nostra regno;\n",
            "=TER=\n",
            "e anche l'occhio le gingambe il viso\n",
            "non vide un, ma per colui che 'l cerchio\n",
            "coruscia tra 'l capo e con l'altro grosso.\n",
            "=TER=\n",
            "Lo maggior de l'aguglie racceso\n",
            "si misero dal corpo de l'ali,\n",
            "che non si misura al suo valor mi rimfiso.\n",
            "=TER=\n",
            "Lo buon maestro innanzi a me sali,\n",
            "non so 'l pur innanzi che non fuor giunto,\n",
            "se non fosse ch'i' non l'altro bassi.\n",
            "=TER=\n",
            "Quando fuor de la grazia ch'i' ho scovra\n",
            "dinanzi al senso ingrato, ch'ogne parte\n",
            "che l'arte del cor m'ha raggio in ira.\n",
            "=TER=\n",
            "E come l'uom che fosse l'arte e l'arte,\n",
            "sì che già l'occhio m'avea tutto l'inferno\n",
            "del ben cesso giù de le sue ir mi rime.\n",
            "=TER=\n",
            "Se 'l duca mio e de l'etterno roso\n",
            "di quel fummo in su dal nostro stanca\n",
            "e basciavansi per tutto e 'l fosso sogco.\n",
            "=TER=\n",
            "Quando col viso e con la cui s'accorga\n",
            "lo suo tormento a le nostre perfidanza,\n",
            "si misea com' avea già cotanta.\n",
            "=TER=\n",
            "Così com' io da quella parola paranza\n",
            "a l'acqua che la gente segue la fronte\n",
            "che non avesse il primo grave caranza.\n",
            "=TER=\n",
            "Sì come l'altra matera ci diserrante,\n",
            "per altre rocca per la bocca sanza tese,\n",
            "sì che 'l duro ti discerno sante.\n",
            "=TER=\n",
            "Questi avea membro tutte l'uom cortese\n",
            "e ristetro al mondo dal suo concetto,\n",
            "e d'un mento che l'altro facea quel gele.\n",
            "=TER=\n",
            "E quel che più facea l'uom più del cento,\n",
            "e qual io dissi: \"Maestro, ed esso\n",
            "che l'altro è d'uno e l'altro intender pieto.\n",
            "=TER=\n",
            "E se non fosse che 'l cielo è messo\n",
            "che par per me l'uno in su l'altro strinse\n",
            "per lo segno che m'ha fatto per lo specchio.\n",
            "=TER=\n",
            "Qual è colui che più strinse pinse\n",
            "col viso in su per lo scoglio riguardo\n",
            "ne l'un punto fiso non li occhi s'accorse;\n",
            "=TER=\n",
            "tal qual io a l'occhio per l'impgiocondo\n",
            "che quel cagion che non si raccolse\n",
            "l'alta colpa che non si nascondo al mendo.\n",
            "=TER=\n",
            "Quivi certo io nel viso sù, voler si scese,\n",
            "per avea virtù con tanto disse:\n",
            "\"O tu che non può esser non ti fiese\".\n",
            "=TER=\n",
            "E io a cui volo: \"Maestro, assai morse\n",
            "vostra ragion non s'aspetta e s'aspetta,\n",
            "se li occhi pur come a me satisfaccse;\n",
            "=TER=\n",
            "e chi potrem dentro a' terra diletta,\n",
            "sì che 'l ben tra 'l terzo s'aspetto,\n",
            "e quando i prieghi grande è più procetta?\n",
            "=TER=\n",
            "Per ch'ogne mia vista de l'occhio aspetto,\n",
            "s'è quel dubbio che m'è tanto avviva,\n",
            "e io mi dissi: \"Maestro, or mi diletto\n",
            "=TER=\n",
            "ne la mia scorta quanto più è più luna;\n",
            "e quella scender qua sù nel mondo,\n",
            "con la prima sua la voglia prora.\n",
            "=TER=\n",
            "Tanto ti parver m'ebbe a te secondo\n",
            "discese qual si sanpuò ciascuno, e vedervi,\n",
            "\"Le cose nel ben tutto quanto.\n",
            "=TER=\n",
            "Oh potenza dal segnor quarto miran divini\n",
            "non per bene ad opere che divenne\n",
            "a l'etterno aspetto che s'aspetta.\n",
            "=TER=\n",
            "Queste ascoltar chi due chiavi conte:\n",
            "ché pria non lo veder qual era allor mi presso\n",
            "come quello amor ch'i' non mi conte.\n",
            "=TER=\n",
            "Né per lo 'nferno a tanto basso,\n",
            "come prima ch'el fu detto la prima corda,\n",
            "tu veder di cui venir ci trassi.\n",
            "=TER=\n",
            "Ma ché tu chi fosti era la goda\n",
            "più volto io più calar con altro mondo,\n",
            "ben è lunga scala sua ben bene\".\n",
            "=TER=\n",
            "Sì come l'un tacer non m'ha riso;\n",
            "e però che 'l presente non si sponda,\n",
            "quando la bocca e non divina aschio.\n",
            "=TER=\n",
            "Mentre ch'io forma mi distava: \"Ella;\n",
            "l'ombra di carro, e di sopra l'ombra\n",
            "di quel reverenza di sùbito d'una.\n",
            "=TER=\n",
            "Noi discendemmo il Virgilio ed el s'inferna,\n",
            "che di là discese ne l'un tace,\n",
            "quando la dolce del loco m'ha cerchia;\n",
            "=TER=\n",
            "e s'io appreso questo con quella pace\n",
            "che, s'appresso in paradiso, si cerna\n",
            "di quel cui si adde l'ultimo cane.\n",
            "=TER=\n",
            "Così sì ch'io mirò questo sospesa\n",
            "di contrario mi si chiama in grido,\n",
            "come per cerchio che si convenia.\n",
            "=TER=\n",
            "E io: \"Maestro, or mio, or m'al profondo\n",
            "mio cominciar mostra il viso e cerchio,\n"
          ],
          "name": "stdout"
        }
      ]
    },
    {
      "cell_type": "code",
      "metadata": {
        "id": "9ZGLN8aIMl_F",
        "colab": {
          "base_uri": "https://localhost:8080/"
        },
        "outputId": "97649a35-34ee-43fa-842f-a334cbb2927d"
      },
      "source": [
        "from metrics.metrics import evaluate\n",
        "\n",
        "evaluate(generated_canto, divine_comedy)"
      ],
      "execution_count": 33,
      "outputs": [
        {
          "output_type": "execute_result",
          "data": {
            "text/plain": [
              "{'Hendecasyllabicness': 0.9049486803519059,\n",
              " 'Plagiarism': 0.9585879158180584,\n",
              " 'Putative Tercets': 62,\n",
              " 'Repetitivity': 0.9979633401221996,\n",
              " 'Rhymeness': 0.8961748633879781,\n",
              " 'Text Structuredness': 0.9960159362549801,\n",
              " 'Well-Formed Tercets': 62}"
            ]
          },
          "metadata": {
            "tags": []
          },
          "execution_count": 33
        }
      ]
    },
    {
      "cell_type": "code",
      "metadata": {
        "id": "jdFQSPZeW3Tg",
        "colab": {
          "base_uri": "https://localhost:8080/"
        },
        "outputId": "44707271-dae4-40e8-acc2-3226c3f742b7"
      },
      "source": [
        "print(generated_canto)"
      ],
      "execution_count": 34,
      "outputs": [
        {
          "output_type": "stream",
          "text": [
            "per me' chii' chini,\n",
            "ma 'l tuo sommo bene è tanto,\n",
            "si disse: \"Maestro, or mi puoi il mio paterno;\n",
            "\n",
            "e cerchio il suggel cor santo stretto\n",
            "de la virtù che fa conviene al segno,\n",
            "e al tratto mio ben l'innocenti al petto.\n",
            "\n",
            "In quel che piace a me l'hanno in ira\n",
            "fosse in quel che ci ha fatto in ira,\n",
            "secondo che Dio convien che più spira.\n",
            "\n",
            "Se venir sù l'allor vi disira\",\n",
            "disse 'l maestro mio sanza parte accende,\n",
            "\"quel bene ha mestier di là si tira\".\n",
            "\n",
            "E io l'accorgor; né lo ritene,\n",
            "ho io d'i pianeti che far l'esser legge,\n",
            "né ferma qui pena che non m'accende.\n",
            "\n",
            "E 'l savio come me stesse cade\n",
            "de la mente lor di quei che 'l ciel chiaro\n",
            "tutte quante a la quattro strade.\n",
            "\n",
            "Con più oltre era ancor non sanza giuro,\n",
            "così per esser lor passaver remi\n",
            "poscia che nel viso suo ver giuro.\n",
            "\n",
            "Ma quel digiunto, del nostro mondo\n",
            "sen va in dietro, e 'l viso girone\n",
            "del tuo maestro e io disir mi secondo;\n",
            "\n",
            "e quel che più lieve si può fare,\n",
            "s'io non era ancor di là dal volto,\n",
            "come fa di noi per la grazia non si chiude.\n",
            "\n",
            "Ma quella vedta tutto quanto aspetto\n",
            "che colpa negasse quel che t'assotta,\n",
            "prezïoso mia mente mia benedetta,\n",
            "\n",
            "e la vostra natura e voi siete\n",
            "onesto voi natura, e asti e voi lieta\n",
            "la voi che la persona e la spira.\n",
            "\n",
            "Tu se' sì pietà perché l'lieta cade\n",
            "che 'l loco ove s'infiamma e ciò guarda,\n",
            "che dal cor sovra nostro amor vade.\n",
            "\n",
            "Ver è ch'altra fïata quanto non ti sponda\n",
            "la carne che s'infiamma e sparse,\n",
            "e qualite ad una altra imagina.\n",
            "\n",
            "Noi ci vidi due col sol di cose\n",
            "eravamo imagine come l'ultima ripa,\n",
            "la donna mia così ferita imposte.\n",
            "\n",
            "Quella circulazion che sì dura\n",
            "facevan lui far di sé sarebbe,\n",
            "come solo il sol mio inganna.\n",
            "\n",
            "E come quel cui venimmo al girale\n",
            "si volge intorno, come l'occhio intorno\n",
            "qual è più grande e più non si sale\".\n",
            "\n",
            "Quanto più torcer di là è corpo orno;\n",
            "e questo passar per lo gran distinto,\n",
            "poscia che 'l cerchio di quel di addorno.\n",
            "\n",
            "E come l'infima quanto era quinto\n",
            "di ciò che fosse il suo fattore tempio,\n",
            "e non per lo lume del vento di quanto;\n",
            "\n",
            "ma come a guarda e vidi costui,\n",
            "per l'orribil sabbion di là possente,\n",
            "vid' io verso noi là sù ver' esso.\n",
            "\n",
            "Però disse: \"Tu vedrai gente ride\n",
            "se non fosti a come tu degna,\n",
            "sì che 'l mortal divina voglia,\n",
            "\n",
            "e come 'l quale in sù non si convegna\n",
            "de l'etterno valore, e qual io vidi\n",
            "quand' io mi traggon d'una parte degna.\n",
            "\n",
            "Lo duca mio intende, e tutti altri giri\n",
            "di ciò che dal convenrio corso è procede\n",
            "la bocca e con sì dolcemente e spiri.\n",
            "\n",
            "Mentre che andar per l'occhio sì fiere,\n",
            "che pria lor veder prima e lor maggiori,\n",
            "e libente di Dio non fosse sole.\n",
            "\n",
            "Vedi che la mia mente se tu di spli,\n",
            "dicendor: \"Segnor mio, e tu non torni\n",
            "ch'i' non potrei or chi ti disnodi\".\n",
            "\n",
            "\"O mio padre mio, \"sanza servo torni\",\n",
            "rispuos' io, \"e io cominciai ed esso,\n",
            "\"tra 'l gran non conosciuto li pieni.\n",
            "\n",
            "\"O navicao del piacero o pavento\n",
            "che suoli il capo mio in su la aperta\",\n",
            "disse 'l maestro, \"io li dissi e 'l sento\".\n",
            "\n",
            "Ond' elli a lui: \"Se tu non ti raccerta\n",
            "lo duca mio a cui la meta al tratto\n",
            "de la nostra occulta mente mia scorta;\n",
            "\n",
            "e tal girando il mio cor de l'agutto\n",
            "di sovra sé un punto da cammino,\n",
            "quand' io mi volsi al suo dir tutto.\n",
            "\n",
            "Non vidi sùbito lor visto e speraro,\n",
            "che fosse in una nave gridò: \"Perché fine\n",
            "le tue parole il nostro e nel chiaro\".\n",
            "\n",
            "E io a l'un duca mio di lei accese;\n",
            "per ch'io mi parsi e l'altro parlare,\n",
            "lo sol va un poco a l'affisse e come 'l prende.\n",
            "\n",
            "E come l'altre facea ch'i' mi parve\n",
            "dimando per quella luce che ne l'un l'aspetto\n",
            "che per udir come fa che 'l dolce.\n",
            "\n",
            "Sì come de l'altra vita diletto\n",
            "per veder se tu così lo scoglio,\n",
            "come tu fosti, in altro ben diletto.\n",
            "\n",
            "E come quel può nessun si raccoggio\n",
            "di quel cui trestizzo fiammeggiar m'accorgo\n",
            "l'ardor de li occhi al nostra regno;\n",
            "\n",
            "e anche l'occhio le gingambe il viso\n",
            "non vide un, ma per colui che 'l cerchio\n",
            "coruscia tra 'l capo e con l'altro grosso.\n",
            "\n",
            "Lo maggior de l'aguglie racceso\n",
            "si misero dal corpo de l'ali,\n",
            "che non si misura al suo valor mi rimfiso.\n",
            "\n",
            "Lo buon maestro innanzi a me sali,\n",
            "non so 'l pur innanzi che non fuor giunto,\n",
            "se non fosse ch'i' non l'altro bassi.\n",
            "\n",
            "Quando fuor de la grazia ch'i' ho scovra\n",
            "dinanzi al senso ingrato, ch'ogne parte\n",
            "che l'arte del cor m'ha raggio in ira.\n",
            "\n",
            "E come l'uom che fosse l'arte e l'arte,\n",
            "sì che già l'occhio m'avea tutto l'inferno\n",
            "del ben cesso giù de le sue ir mi rime.\n",
            "\n",
            "Se 'l duca mio e de l'etterno roso\n",
            "di quel fummo in su dal nostro stanca\n",
            "e basciavansi per tutto e 'l fosso sogco.\n",
            "\n",
            "Quando col viso e con la cui s'accorga\n",
            "lo suo tormento a le nostre perfidanza,\n",
            "si misea com' avea già cotanta.\n",
            "\n",
            "Così com' io da quella parola paranza\n",
            "a l'acqua che la gente segue la fronte\n",
            "che non avesse il primo grave caranza.\n",
            "\n",
            "Sì come l'altra matera ci diserrante,\n",
            "per altre rocca per la bocca sanza tese,\n",
            "sì che 'l duro ti discerno sante.\n",
            "\n",
            "Questi avea membro tutte l'uom cortese\n",
            "e ristetro al mondo dal suo concetto,\n",
            "e d'un mento che l'altro facea quel gele.\n",
            "\n",
            "E quel che più facea l'uom più del cento,\n",
            "e qual io dissi: \"Maestro, ed esso\n",
            "che l'altro è d'uno e l'altro intender pieto.\n",
            "\n",
            "E se non fosse che 'l cielo è messo\n",
            "che par per me l'uno in su l'altro strinse\n",
            "per lo segno che m'ha fatto per lo specchio.\n",
            "\n",
            "Qual è colui che più strinse pinse\n",
            "col viso in su per lo scoglio riguardo\n",
            "ne l'un punto fiso non li occhi s'accorse;\n",
            "\n",
            "tal qual io a l'occhio per l'impgiocondo\n",
            "che quel cagion che non si raccolse\n",
            "l'alta colpa che non si nascondo al mendo.\n",
            "\n",
            "Quivi certo io nel viso sù, voler si scese,\n",
            "per avea virtù con tanto disse:\n",
            "\"O tu che non può esser non ti fiese\".\n",
            "\n",
            "E io a cui volo: \"Maestro, assai morse\n",
            "vostra ragion non s'aspetta e s'aspetta,\n",
            "se li occhi pur come a me satisfaccse;\n",
            "\n",
            "e chi potrem dentro a' terra diletta,\n",
            "sì che 'l ben tra 'l terzo s'aspetto,\n",
            "e quando i prieghi grande è più procetta?\n",
            "\n",
            "Per ch'ogne mia vista de l'occhio aspetto,\n",
            "s'è quel dubbio che m'è tanto avviva,\n",
            "e io mi dissi: \"Maestro, or mi diletto\n",
            "\n",
            "ne la mia scorta quanto più è più luna;\n",
            "e quella scender qua sù nel mondo,\n",
            "con la prima sua la voglia prora.\n",
            "\n",
            "Tanto ti parver m'ebbe a te secondo\n",
            "discese qual si sanpuò ciascuno, e vedervi,\n",
            "\"Le cose nel ben tutto quanto.\n",
            "\n",
            "Oh potenza dal segnor quarto miran divini\n",
            "non per bene ad opere che divenne\n",
            "a l'etterno aspetto che s'aspetta.\n",
            "\n",
            "Queste ascoltar chi due chiavi conte:\n",
            "ché pria non lo veder qual era allor mi presso\n",
            "come quello amor ch'i' non mi conte.\n",
            "\n",
            "Né per lo 'nferno a tanto basso,\n",
            "come prima ch'el fu detto la prima corda,\n",
            "tu veder di cui venir ci trassi.\n",
            "\n",
            "Ma ché tu chi fosti era la goda\n",
            "più volto io più calar con altro mondo,\n",
            "ben è lunga scala sua ben bene\".\n",
            "\n",
            "Sì come l'un tacer non m'ha riso;\n",
            "e però che 'l presente non si sponda,\n",
            "quando la bocca e non divina aschio.\n",
            "\n",
            "Mentre ch'io forma mi distava: \"Ella;\n",
            "l'ombra di carro, e di sopra l'ombra\n",
            "di quel reverenza di sùbito d'una.\n",
            "\n",
            "Noi discendemmo il Virgilio ed el s'inferna,\n",
            "che di là discese ne l'un tace,\n",
            "quando la dolce del loco m'ha cerchia;\n",
            "\n",
            "e s'io appreso questo con quella pace\n",
            "che, s'appresso in paradiso, si cerna\n",
            "di quel cui si adde l'ultimo cane.\n",
            "\n",
            "Così sì ch'io mirò questo sospesa\n",
            "di contrario mi si chiama in grido,\n",
            "come per cerchio che si convenia.\n",
            "\n",
            "E io: \"Maestro, or mio, or m'al profondo\n",
            "mio cominciar mostra il viso e cerchio,\n",
            "\n"
          ],
          "name": "stdout"
        }
      ]
    }
  ]
}